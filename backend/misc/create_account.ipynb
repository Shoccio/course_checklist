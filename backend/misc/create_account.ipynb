{
 "cells": [
  {
   "cell_type": "code",
   "execution_count": 1,
   "id": "0c8283fd",
   "metadata": {},
   "outputs": [
    {
     "name": "stderr",
     "output_type": "stream",
     "text": [
      "C:\\Users\\mynam\\AppData\\Local\\Temp\\ipykernel_5584\\1027001062.py:1: DeprecationWarning: \n",
      "Pyarrow will become a required dependency of pandas in the next major release of pandas (pandas 3.0),\n",
      "(to allow more performant data types, such as the Arrow string type, and better interoperability with other libraries)\n",
      "but was not found to be installed on your system.\n",
      "If this would cause problems for you,\n",
      "please provide us feedback at https://github.com/pandas-dev/pandas/issues/54466\n",
      "        \n",
      "  import pandas as pd\n"
     ]
    }
   ],
   "source": [
    "import pandas as pd\n",
    "import numpy as np\n",
    "from sqlalchemy import create_engine, text"
   ]
  },
  {
   "cell_type": "code",
   "execution_count": 2,
   "id": "3095c27d",
   "metadata": {},
   "outputs": [],
   "source": [
    "db_username = \"root\"\n",
    "db_password = \")Q9w8e7r6t5y4u3i2o1p\"\n",
    "db_ip = \"localhost\"\n",
    "db_name = 'curriculumchecklist'\n",
    "db_connection = create_engine(\"mysql+mysqlconnector://{0}:{1}@{2}/{3}\".format(db_username, db_password, db_ip, db_name))"
   ]
  },
  {
   "cell_type": "code",
   "execution_count": 3,
   "id": "6e40c58a",
   "metadata": {},
   "outputs": [
    {
     "data": {
      "text/plain": [
       "{'student_id': '23-1512-736',\n",
       " 'student_email': 'c23.com',\n",
       " 'student_dept': 'CS',\n",
       " 'program_id': 'BSCS',\n",
       " 'student_f_name': 'Juan',\n",
       " 'student_l_name': 'Sacdalan',\n",
       " 'student_m_name': 'Dela Cruz'}"
      ]
     },
     "execution_count": 3,
     "metadata": {},
     "output_type": "execute_result"
    }
   ],
   "source": [
    "student = {\"student_id\": \"23-1512-736\", \"student_email\": \"c23.com\", \"student_dept\": \"CS\", \"program_id\": \"BSCS\",\n",
    "           \"student_f_name\": \"Juan\", \"student_l_name\": \"Sacdalan\", \"student_m_name\": \"Dela Cruz\"}\n",
    "student"
   ]
  },
  {
   "cell_type": "code",
   "execution_count": 12,
   "id": "f2932ca3",
   "metadata": {},
   "outputs": [
    {
     "data": {
      "application/vnd.microsoft.datawrangler.viewer.v0+json": {
       "columns": [
        {
         "name": "index",
         "rawType": "int64",
         "type": "integer"
        },
        {
         "name": "course_id",
         "rawType": "object",
         "type": "string"
        }
       ],
       "ref": "5b6566ce-1bb2-444a-a82c-0895955879ec",
       "rows": [
        [
         "0",
         "BCS1101"
        ],
        [
         "1",
         "CCS1101"
        ],
        [
         "2",
         "CCS1101L"
        ],
        [
         "3",
         "CCS1102"
        ],
        [
         "4",
         "CCS1102L"
        ],
        [
         "5",
         "FCL100"
        ],
        [
         "6",
         "GEE300"
        ],
        [
         "7",
         "GEC100"
        ],
        [
         "8",
         "GEC500"
        ],
        [
         "9",
         "NST100"
        ],
        [
         "10",
         "PATHFIT1"
        ],
        [
         "11",
         "BCS1202"
        ],
        [
         "12",
         "CCS1203"
        ],
        [
         "13",
         "CCS1203L"
        ],
        [
         "14",
         "FCL200"
        ],
        [
         "15",
         "GEE200"
        ],
        [
         "16",
         "GEC600"
        ],
        [
         "17",
         "GEC800"
        ],
        [
         "18",
         "NST200"
        ],
        [
         "19",
         "PATHFIT2"
        ],
        [
         "20",
         "BIT2103"
        ],
        [
         "21",
         "BIT2103L"
        ],
        [
         "22",
         "BCSELEC1"
        ],
        [
         "23",
         "BIT2105"
        ],
        [
         "24",
         "CCS2104"
        ],
        [
         "25",
         "CCS2104L"
        ],
        [
         "26",
         "FCL300"
        ],
        [
         "27",
         "GEC300"
        ],
        [
         "28",
         "GEE100"
        ],
        [
         "29",
         "PATHFIT3"
        ],
        [
         "30",
         "BCS2203"
        ],
        [
         "31",
         "BCS2203L"
        ],
        [
         "32",
         "BCS2216"
        ],
        [
         "33",
         "BIT2208"
        ],
        [
         "34",
         "BIT2208L"
        ],
        [
         "35",
         "BIT1202"
        ],
        [
         "36",
         "BIT1202L"
        ],
        [
         "37",
         "CCS2205"
        ],
        [
         "38",
         "CCS2205L"
        ],
        [
         "39",
         "FCL400"
        ],
        [
         "40",
         "GEC400"
        ],
        [
         "41",
         "PATHFIT4"
        ],
        [
         "42",
         "BCS3105"
        ],
        [
         "43",
         "BIT3113"
        ],
        [
         "44",
         "BIT3113L"
        ],
        [
         "45",
         "BCS3107"
        ],
        [
         "46",
         "BCS3107L"
        ],
        [
         "47",
         "BIT3112"
        ],
        [
         "48",
         "BCS4113"
        ],
        [
         "49",
         "BCS4113L"
        ]
       ],
       "shape": {
        "columns": 1,
        "rows": 77
       }
      },
      "text/html": [
       "<div>\n",
       "<style scoped>\n",
       "    .dataframe tbody tr th:only-of-type {\n",
       "        vertical-align: middle;\n",
       "    }\n",
       "\n",
       "    .dataframe tbody tr th {\n",
       "        vertical-align: top;\n",
       "    }\n",
       "\n",
       "    .dataframe thead th {\n",
       "        text-align: right;\n",
       "    }\n",
       "</style>\n",
       "<table border=\"1\" class=\"dataframe\">\n",
       "  <thead>\n",
       "    <tr style=\"text-align: right;\">\n",
       "      <th></th>\n",
       "      <th>course_id</th>\n",
       "    </tr>\n",
       "  </thead>\n",
       "  <tbody>\n",
       "    <tr>\n",
       "      <th>0</th>\n",
       "      <td>BCS1101</td>\n",
       "    </tr>\n",
       "    <tr>\n",
       "      <th>1</th>\n",
       "      <td>CCS1101</td>\n",
       "    </tr>\n",
       "    <tr>\n",
       "      <th>2</th>\n",
       "      <td>CCS1101L</td>\n",
       "    </tr>\n",
       "    <tr>\n",
       "      <th>3</th>\n",
       "      <td>CCS1102</td>\n",
       "    </tr>\n",
       "    <tr>\n",
       "      <th>4</th>\n",
       "      <td>CCS1102L</td>\n",
       "    </tr>\n",
       "    <tr>\n",
       "      <th>...</th>\n",
       "      <td>...</td>\n",
       "    </tr>\n",
       "    <tr>\n",
       "      <th>72</th>\n",
       "      <td>BCS4115</td>\n",
       "    </tr>\n",
       "    <tr>\n",
       "      <th>73</th>\n",
       "      <td>CCS4206</td>\n",
       "    </tr>\n",
       "    <tr>\n",
       "      <th>74</th>\n",
       "      <td>BCS4114</td>\n",
       "    </tr>\n",
       "    <tr>\n",
       "      <th>75</th>\n",
       "      <td>BCS4114L</td>\n",
       "    </tr>\n",
       "    <tr>\n",
       "      <th>76</th>\n",
       "      <td>FCL800</td>\n",
       "    </tr>\n",
       "  </tbody>\n",
       "</table>\n",
       "<p>77 rows × 1 columns</p>\n",
       "</div>"
      ],
      "text/plain": [
       "   course_id\n",
       "0    BCS1101\n",
       "1    CCS1101\n",
       "2   CCS1101L\n",
       "3    CCS1102\n",
       "4   CCS1102L\n",
       "..       ...\n",
       "72   BCS4115\n",
       "73   CCS4206\n",
       "74   BCS4114\n",
       "75  BCS4114L\n",
       "76    FCL800\n",
       "\n",
       "[77 rows x 1 columns]"
      ]
     },
     "execution_count": 12,
     "metadata": {},
     "output_type": "execute_result"
    }
   ],
   "source": [
    "query = text(\"\"\"SELECT courses.course_id FROM program_courses\n",
    "                INNER JOIN courses\n",
    "                ON courses.course_id = program_courses.course_id\n",
    "                WHERE program_courses.program_id = :program_id\n",
    "             \"\"\")\n",
    "params = {\"program_id\": student[\"program_id\"]}\n",
    "courses = pd.read_sql(query, db_connection, params=params)\n",
    "courses\n"
   ]
  },
  {
   "cell_type": "code",
   "execution_count": 8,
   "id": "36013f69",
   "metadata": {},
   "outputs": [
    {
     "data": {
      "application/vnd.microsoft.datawrangler.viewer.v0+json": {
       "columns": [
        {
         "name": "index",
         "rawType": "int64",
         "type": "integer"
        },
        {
         "name": "course_id",
         "rawType": "object",
         "type": "string"
        },
        {
         "name": "student_id",
         "rawType": "object",
         "type": "string"
        }
       ],
       "ref": "74fd8ff4-421e-480e-9882-1382648f4c20",
       "rows": [
        [
         "0",
         "BCS1101",
         "23-1512-736"
        ],
        [
         "1",
         "CCS1101",
         "23-1512-736"
        ],
        [
         "2",
         "CCS1101L",
         "23-1512-736"
        ],
        [
         "3",
         "CCS1102",
         "23-1512-736"
        ],
        [
         "4",
         "CCS1102L",
         "23-1512-736"
        ],
        [
         "5",
         "FCL100",
         "23-1512-736"
        ],
        [
         "6",
         "GEE300",
         "23-1512-736"
        ],
        [
         "7",
         "GEC100",
         "23-1512-736"
        ],
        [
         "8",
         "GEC500",
         "23-1512-736"
        ],
        [
         "9",
         "NST100",
         "23-1512-736"
        ],
        [
         "10",
         "PATHFIT1",
         "23-1512-736"
        ],
        [
         "11",
         "BCS1202",
         "23-1512-736"
        ],
        [
         "12",
         "CCS1203",
         "23-1512-736"
        ],
        [
         "13",
         "CCS1203L",
         "23-1512-736"
        ],
        [
         "14",
         "FCL200",
         "23-1512-736"
        ],
        [
         "15",
         "GEE200",
         "23-1512-736"
        ],
        [
         "16",
         "GEC600",
         "23-1512-736"
        ],
        [
         "17",
         "GEC800",
         "23-1512-736"
        ],
        [
         "18",
         "NST200",
         "23-1512-736"
        ],
        [
         "19",
         "PATHFIT2",
         "23-1512-736"
        ],
        [
         "20",
         "BIT2103",
         "23-1512-736"
        ],
        [
         "21",
         "BIT2103L",
         "23-1512-736"
        ],
        [
         "22",
         "BCSELEC1",
         "23-1512-736"
        ],
        [
         "23",
         "BIT2105",
         "23-1512-736"
        ],
        [
         "24",
         "CCS2104",
         "23-1512-736"
        ],
        [
         "25",
         "CCS2104L",
         "23-1512-736"
        ],
        [
         "26",
         "FCL300",
         "23-1512-736"
        ],
        [
         "27",
         "GEC300",
         "23-1512-736"
        ],
        [
         "28",
         "GEE100",
         "23-1512-736"
        ],
        [
         "29",
         "PATHFIT3",
         "23-1512-736"
        ],
        [
         "30",
         "BCS2203",
         "23-1512-736"
        ],
        [
         "31",
         "BCS2203L",
         "23-1512-736"
        ],
        [
         "32",
         "BCS2216",
         "23-1512-736"
        ],
        [
         "33",
         "BIT2208",
         "23-1512-736"
        ],
        [
         "34",
         "BIT2208L",
         "23-1512-736"
        ],
        [
         "35",
         "BIT1202",
         "23-1512-736"
        ],
        [
         "36",
         "BIT1202L",
         "23-1512-736"
        ],
        [
         "37",
         "CCS2205",
         "23-1512-736"
        ],
        [
         "38",
         "CCS2205L",
         "23-1512-736"
        ],
        [
         "39",
         "FCL400",
         "23-1512-736"
        ],
        [
         "40",
         "GEC400",
         "23-1512-736"
        ],
        [
         "41",
         "PATHFIT4",
         "23-1512-736"
        ],
        [
         "42",
         "BCS3105",
         "23-1512-736"
        ],
        [
         "43",
         "BIT3113",
         "23-1512-736"
        ],
        [
         "44",
         "BIT3113L",
         "23-1512-736"
        ],
        [
         "45",
         "BCS3107",
         "23-1512-736"
        ],
        [
         "46",
         "BCS3107L",
         "23-1512-736"
        ],
        [
         "47",
         "BIT3112",
         "23-1512-736"
        ],
        [
         "48",
         "BCS4113",
         "23-1512-736"
        ],
        [
         "49",
         "BCS4113L",
         "23-1512-736"
        ]
       ],
       "shape": {
        "columns": 2,
        "rows": 77
       }
      },
      "text/html": [
       "<div>\n",
       "<style scoped>\n",
       "    .dataframe tbody tr th:only-of-type {\n",
       "        vertical-align: middle;\n",
       "    }\n",
       "\n",
       "    .dataframe tbody tr th {\n",
       "        vertical-align: top;\n",
       "    }\n",
       "\n",
       "    .dataframe thead th {\n",
       "        text-align: right;\n",
       "    }\n",
       "</style>\n",
       "<table border=\"1\" class=\"dataframe\">\n",
       "  <thead>\n",
       "    <tr style=\"text-align: right;\">\n",
       "      <th></th>\n",
       "      <th>course_id</th>\n",
       "      <th>student_id</th>\n",
       "    </tr>\n",
       "  </thead>\n",
       "  <tbody>\n",
       "    <tr>\n",
       "      <th>0</th>\n",
       "      <td>BCS1101</td>\n",
       "      <td>23-1512-736</td>\n",
       "    </tr>\n",
       "    <tr>\n",
       "      <th>1</th>\n",
       "      <td>CCS1101</td>\n",
       "      <td>23-1512-736</td>\n",
       "    </tr>\n",
       "    <tr>\n",
       "      <th>2</th>\n",
       "      <td>CCS1101L</td>\n",
       "      <td>23-1512-736</td>\n",
       "    </tr>\n",
       "    <tr>\n",
       "      <th>3</th>\n",
       "      <td>CCS1102</td>\n",
       "      <td>23-1512-736</td>\n",
       "    </tr>\n",
       "    <tr>\n",
       "      <th>4</th>\n",
       "      <td>CCS1102L</td>\n",
       "      <td>23-1512-736</td>\n",
       "    </tr>\n",
       "    <tr>\n",
       "      <th>...</th>\n",
       "      <td>...</td>\n",
       "      <td>...</td>\n",
       "    </tr>\n",
       "    <tr>\n",
       "      <th>72</th>\n",
       "      <td>BCS4115</td>\n",
       "      <td>23-1512-736</td>\n",
       "    </tr>\n",
       "    <tr>\n",
       "      <th>73</th>\n",
       "      <td>CCS4206</td>\n",
       "      <td>23-1512-736</td>\n",
       "    </tr>\n",
       "    <tr>\n",
       "      <th>74</th>\n",
       "      <td>BCS4114</td>\n",
       "      <td>23-1512-736</td>\n",
       "    </tr>\n",
       "    <tr>\n",
       "      <th>75</th>\n",
       "      <td>BCS4114L</td>\n",
       "      <td>23-1512-736</td>\n",
       "    </tr>\n",
       "    <tr>\n",
       "      <th>76</th>\n",
       "      <td>FCL800</td>\n",
       "      <td>23-1512-736</td>\n",
       "    </tr>\n",
       "  </tbody>\n",
       "</table>\n",
       "<p>77 rows × 2 columns</p>\n",
       "</div>"
      ],
      "text/plain": [
       "   course_id   student_id\n",
       "0    BCS1101  23-1512-736\n",
       "1    CCS1101  23-1512-736\n",
       "2   CCS1101L  23-1512-736\n",
       "3    CCS1102  23-1512-736\n",
       "4   CCS1102L  23-1512-736\n",
       "..       ...          ...\n",
       "72   BCS4115  23-1512-736\n",
       "73   CCS4206  23-1512-736\n",
       "74   BCS4114  23-1512-736\n",
       "75  BCS4114L  23-1512-736\n",
       "76    FCL800  23-1512-736\n",
       "\n",
       "[77 rows x 2 columns]"
      ]
     },
     "execution_count": 8,
     "metadata": {},
     "output_type": "execute_result"
    }
   ],
   "source": [
    "courses[\"student_id\"] = student[\"student_id\"]\n",
    "courses"
   ]
  },
  {
   "cell_type": "code",
   "execution_count": 11,
   "id": "81b13f86",
   "metadata": {},
   "outputs": [
    {
     "data": {
      "text/plain": [
       "77"
      ]
     },
     "execution_count": 11,
     "metadata": {},
     "output_type": "execute_result"
    }
   ],
   "source": [
    "student_df = pd.DataFrame([student])\n",
    "student_df.to_sql(\"students\", db_connection, if_exists=\"append\", index=False)\n",
    "courses.to_sql(\"students_courses\", db_connection, if_exists=\"append\", index=False)"
   ]
  }
 ],
 "metadata": {
  "kernelspec": {
   "display_name": "Python 3",
   "language": "python",
   "name": "python3"
  },
  "language_info": {
   "codemirror_mode": {
    "name": "ipython",
    "version": 3
   },
   "file_extension": ".py",
   "mimetype": "text/x-python",
   "name": "python",
   "nbconvert_exporter": "python",
   "pygments_lexer": "ipython3",
   "version": "3.12.1"
  }
 },
 "nbformat": 4,
 "nbformat_minor": 5
}
