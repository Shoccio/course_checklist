{
 "cells": [
  {
   "cell_type": "code",
   "execution_count": 26,
   "id": "f78a6cef",
   "metadata": {},
   "outputs": [],
   "source": [
    "import pandas as pd\n",
    "import numpy as np\n",
    "from sqlalchemy import create_engine, text"
   ]
  },
  {
   "cell_type": "code",
   "execution_count": 55,
   "id": "58f73ed6",
   "metadata": {},
   "outputs": [],
   "source": [
    "db_username = \"root\"\n",
    "db_password = \")Q9w8e7r6t5y4u3i2o1p\"\n",
    "db_ip = \"localhost\"\n",
    "db_name = 'curriculumchecklist'\n",
    "db_connection = create_engine(\"mysql+mysqlconnector://{0}:{1}@{2}/{3}\".format(db_username, db_password, db_ip, db_name))"
   ]
  },
  {
   "cell_type": "code",
   "execution_count": 86,
   "id": "ae144030",
   "metadata": {},
   "outputs": [],
   "source": [
    "table = pd.read_csv(\"BITCF.csv\")\n"
   ]
  },
  {
   "cell_type": "code",
   "execution_count": 88,
   "id": "222a1f78",
   "metadata": {},
   "outputs": [],
   "source": [
    "table.rename(columns={\"Course Code\": \"course_id\", \"Course Name\": \"course_name\", \"Pre-requisite\": \"course_preq\", \"Hours\": \"course_hours\",\n",
    "                      \"Units\": \"course_units\", \"Year\": \"course_year\", \"Semester\": \"course_sem\"}, inplace=True)"
   ]
  },
  {
   "cell_type": "code",
   "execution_count": 90,
   "id": "700c2a96",
   "metadata": {},
   "outputs": [],
   "source": [
    "program = \"BITCF\"\n",
    "relTable = table[[\"course_id\"]].copy()\n",
    "relTable[\"program_id\"] = program"
   ]
  },
  {
   "cell_type": "code",
   "execution_count": 91,
   "id": "e0363396",
   "metadata": {},
   "outputs": [],
   "source": [
    "order = [\"course_id\", \"course_name\", \"course_hours\", \"course_units\", \"course_preq\", \"course_year\", \"course_sem\"]\n",
    "table = table[order]"
   ]
  },
  {
   "cell_type": "code",
   "execution_count": 94,
   "id": "f33605fa",
   "metadata": {},
   "outputs": [
    {
     "data": {
      "text/plain": [
       "[{'course_id': 'BIT1101', 'program_id': 'BITCF'},\n",
       " {'course_id': 'CCS1101', 'program_id': 'BITCF'},\n",
       " {'course_id': 'CCS1101L', 'program_id': 'BITCF'},\n",
       " {'course_id': 'CCS1102', 'program_id': 'BITCF'},\n",
       " {'course_id': 'CCS1102L', 'program_id': 'BITCF'},\n",
       " {'course_id': 'FCL100', 'program_id': 'BITCF'},\n",
       " {'course_id': 'GEC100', 'program_id': 'BITCF'},\n",
       " {'course_id': 'GEC500', 'program_id': 'BITCF'},\n",
       " {'course_id': 'GEE300', 'program_id': 'BITCF'},\n",
       " {'course_id': 'NST100', 'program_id': 'BITCF'},\n",
       " {'course_id': 'PATHFIT1', 'program_id': 'BITCF'},\n",
       " {'course_id': 'BIT1202', 'program_id': 'BITCF'},\n",
       " {'course_id': 'BIT1202L', 'program_id': 'BITCF'},\n",
       " {'course_id': 'BIT1225', 'program_id': 'BITCF'},\n",
       " {'course_id': 'BIT1225L', 'program_id': 'BITCF'},\n",
       " {'course_id': 'CCS1203', 'program_id': 'BITCF'},\n",
       " {'course_id': 'CCS1203L', 'program_id': 'BITCF'},\n",
       " {'course_id': 'FCL200', 'program_id': 'BITCF'},\n",
       " {'course_id': 'GEC600', 'program_id': 'BITCF'},\n",
       " {'course_id': 'GEC800', 'program_id': 'BITCF'},\n",
       " {'course_id': 'GEE200', 'program_id': 'BITCF'},\n",
       " {'course_id': 'NST200', 'program_id': 'BITCF'},\n",
       " {'course_id': 'PATHFIT2', 'program_id': 'BITCF'},\n",
       " {'course_id': 'BIT2103', 'program_id': 'BITCF'},\n",
       " {'course_id': 'BIT2103L', 'program_id': 'BITCF'},\n",
       " {'course_id': 'BIT2104', 'program_id': 'BITCF'},\n",
       " {'course_id': 'BIT2104L', 'program_id': 'BITCF'},\n",
       " {'course_id': 'BIT2105', 'program_id': 'BITCF'},\n",
       " {'course_id': 'CCS2104', 'program_id': 'BITCF'},\n",
       " {'course_id': 'CCS2104L', 'program_id': 'BITCF'},\n",
       " {'course_id': 'FCL300', 'program_id': 'BITCF'},\n",
       " {'course_id': 'GEC300', 'program_id': 'BITCF'},\n",
       " {'course_id': 'GEE100', 'program_id': 'BITCF'},\n",
       " {'course_id': 'PATHFIT3', 'program_id': 'BITCF'},\n",
       " {'course_id': 'BIT2226', 'program_id': 'BITCF'},\n",
       " {'course_id': 'BIT2226L', 'program_id': 'BITCF'},\n",
       " {'course_id': 'BIT2207', 'program_id': 'BITCF'},\n",
       " {'course_id': 'BIT2207L', 'program_id': 'BITCF'},\n",
       " {'course_id': 'BIT2208', 'program_id': 'BITCF'},\n",
       " {'course_id': 'BIT2208L', 'program_id': 'BITCF'},\n",
       " {'course_id': 'CCS2205', 'program_id': 'BITCF'},\n",
       " {'course_id': 'CCS2205L', 'program_id': 'BITCF'},\n",
       " {'course_id': 'FCL400', 'program_id': 'BITCF'},\n",
       " {'course_id': 'GEC400', 'program_id': 'BITCF'},\n",
       " {'course_id': 'PATHFIT4', 'program_id': 'BITCF'},\n",
       " {'course_id': 'BIT3109', 'program_id': 'BITCF'},\n",
       " {'course_id': 'BIT3110', 'program_id': 'BITCF'},\n",
       " {'course_id': 'BIT3110L', 'program_id': 'BITCF'},\n",
       " {'course_id': 'BIT3111', 'program_id': 'BITCF'},\n",
       " {'course_id': 'BIT3111L', 'program_id': 'BITCF'},\n",
       " {'course_id': 'BIT3128', 'program_id': 'BITCF'},\n",
       " {'course_id': 'BIT3129', 'program_id': 'BITCF'},\n",
       " {'course_id': 'BIT3129L', 'program_id': 'BITCF'},\n",
       " {'course_id': 'FCL500', 'program_id': 'BITCF'},\n",
       " {'course_id': 'GEC700', 'program_id': 'BITCF'},\n",
       " {'course_id': 'BIT3231', 'program_id': 'BITCF'},\n",
       " {'course_id': 'BIT3232', 'program_id': 'BITCF'},\n",
       " {'course_id': 'BIT3232L', 'program_id': 'BITCF'},\n",
       " {'course_id': 'BIT3233', 'program_id': 'BITCF'},\n",
       " {'course_id': 'BIT3233L', 'program_id': 'BITCF'},\n",
       " {'course_id': 'BIT3215', 'program_id': 'BITCF'},\n",
       " {'course_id': 'BIT3215L', 'program_id': 'BITCF'},\n",
       " {'course_id': 'BIT3229', 'program_id': 'BITCF'},\n",
       " {'course_id': 'BIT3229L', 'program_id': 'BITCF'},\n",
       " {'course_id': 'FCL600', 'program_id': 'BITCF'},\n",
       " {'course_id': 'GEC200', 'program_id': 'BITCF'},\n",
       " {'course_id': 'RIZ100', 'program_id': 'BITCF'},\n",
       " {'course_id': 'BIT4118', 'program_id': 'BITCF'},\n",
       " {'course_id': 'BIT4119', 'program_id': 'BITCF'},\n",
       " {'course_id': 'BIT4120', 'program_id': 'BITCF'},\n",
       " {'course_id': 'BIT4120L', 'program_id': 'BITCF'},\n",
       " {'course_id': 'FCL700', 'program_id': 'BITCF'},\n",
       " {'course_id': 'BIT4222', 'program_id': 'BITCF'},\n",
       " {'course_id': 'BIT4233', 'program_id': 'BITCF'},\n",
       " {'course_id': 'BIT4233L', 'program_id': 'BITCF'},\n",
       " {'course_id': 'BIT4234', 'program_id': 'BITCF'},\n",
       " {'course_id': 'BIT4234L', 'program_id': 'BITCF'},\n",
       " {'course_id': 'CCS4206', 'program_id': 'BITCF'},\n",
       " {'course_id': 'FCL800', 'program_id': 'BITCF'}]"
      ]
     },
     "execution_count": 94,
     "metadata": {},
     "output_type": "execute_result"
    }
   ],
   "source": [
    "pushCourse = text(\"\"\" INSERT INTO courses (course_id, course_name, course_hours, course_units, course_preq, course_year, course_sem)\n",
    "    VALUES (:course_id, :course_name, :course_hours, :course_units, :course_preq, :course_year, :course_sem)\n",
    "    ON DUPLICATE KEY UPDATE course_sem = VALUES(course_sem)\n",
    "\"\"\")\n",
    "\n",
    "pushRel = text(\"\"\" INSERT INTO program_courses (course_id, program_id)\n",
    "               VALUES (:course_id, :program_id)\n",
    "               \"\"\")\n",
    "\n",
    "data = table.where(pd.notnull(table), None).to_dict(orient='records')\n",
    "relData = relTable.to_dict(orient=\"records\")\n",
    "relData\n",
    "\n"
   ]
  },
  {
   "cell_type": "code",
   "execution_count": 96,
   "id": "a81c7ad6",
   "metadata": {},
   "outputs": [],
   "source": [
    "with db_connection.begin() as conn:\n",
    "    conn.execute(pushCourse, data)\n",
    "    conn.execute(pushRel, relData)"
   ]
  },
  {
   "cell_type": "code",
   "execution_count": null,
   "id": "f4c36d90",
   "metadata": {},
   "outputs": [],
   "source": []
  }
 ],
 "metadata": {
  "kernelspec": {
   "display_name": "Python 3",
   "language": "python",
   "name": "python3"
  },
  "language_info": {
   "codemirror_mode": {
    "name": "ipython",
    "version": 3
   },
   "file_extension": ".py",
   "mimetype": "text/x-python",
   "name": "python",
   "nbconvert_exporter": "python",
   "pygments_lexer": "ipython3",
   "version": "3.12.1"
  }
 },
 "nbformat": 4,
 "nbformat_minor": 5
}
