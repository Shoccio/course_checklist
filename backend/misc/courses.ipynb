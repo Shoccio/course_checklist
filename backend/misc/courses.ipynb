{
 "cells": [
  {
   "cell_type": "code",
   "execution_count": null,
   "id": "b79aa013",
   "metadata": {},
   "outputs": [
    {
     "name": "stderr",
     "output_type": "stream",
     "text": [
      "C:\\Users\\mynam\\AppData\\Local\\Temp\\ipykernel_3548\\1027001062.py:1: DeprecationWarning: \n",
      "Pyarrow will become a required dependency of pandas in the next major release of pandas (pandas 3.0),\n",
      "(to allow more performant data types, such as the Arrow string type, and better interoperability with other libraries)\n",
      "but was not found to be installed on your system.\n",
      "If this would cause problems for you,\n",
      "please provide us feedback at https://github.com/pandas-dev/pandas/issues/54466\n",
      "        \n",
      "  import pandas as pd\n"
     ]
    }
   ],
   "source": [
    "import pandas as pd\n",
    "import numpy as np\n",
    "import json\n",
    "from sqlalchemy import create_engine, text"
   ]
  },
  {
   "cell_type": "code",
   "execution_count": null,
   "id": "1ec45567",
   "metadata": {},
   "outputs": [],
   "source": [
    "db_username = \"root\"\n",
    "db_password = \")Q9w8e7r6t5y4u3i2o1p\"\n",
    "db_ip = \"localhost\"\n",
    "db_name = 'curriculumchecklist'\n",
    "db_connection = create_engine(\"mysql+mysqlconnector://{0}:{1}@{2}/{3}\".format(db_username, db_password, db_ip, db_name))\n",
    "table_name = \"courses\""
   ]
  },
  {
   "cell_type": "code",
   "execution_count": null,
   "id": "9783548d",
   "metadata": {},
   "outputs": [],
   "source": [
    "def addCourse(course_json):\n",
    "    course = json.load(course_json)\n",
    "    course_df = pd.DataFrame([course])\n",
    "    course_df.to_sql(\"courses\", db_connection, if_exists=\"append\", index=False)\n",
    "    return \"Add successful\""
   ]
  },
  {
   "cell_type": "code",
   "execution_count": 7,
   "id": "b379749d",
   "metadata": {},
   "outputs": [],
   "source": [
    "def editCourse(course_json, course_id):\n",
    "    course = json.load(course_json)\n",
    "    course[\"old_id\"] = course_id\n",
    "    query = text(\"\"\"UPDATE courses\n",
    "                    SET course_id = ':course_id', course_name = ':course_name', course_hours = ':course_hours',\n",
    "                    course_units = ':course_units', course_preq = ':course_preq', course_year = ':course_year',\n",
    "                    course_sem = ':course_sem'\n",
    "                    WHERE course_id = ':old_id'\"\"\")\n",
    "    with db_connection.begin() as conn:\n",
    "        conn.execute(query, course)\n",
    "    return \"Edit successful\""
   ]
  },
  {
   "cell_type": "code",
   "execution_count": 9,
   "id": "56b94d7f",
   "metadata": {},
   "outputs": [],
   "source": [
    "def deleteCourse(course_id):\n",
    "    query = text(\"\"\"DELETE FROM courses WHERE course_id = :course_id\"\"\")\n",
    "    params = {\"course_id\": course_id}\n",
    "    with db_connection.begin() as conn:\n",
    "        conn.execute(query, params)\n",
    "    return \"Delete successful\""
   ]
  },
  {
   "cell_type": "code",
   "execution_count": null,
   "id": "e89ed64b",
   "metadata": {},
   "outputs": [],
   "source": []
  }
 ],
 "metadata": {
  "kernelspec": {
   "display_name": "Python 3",
   "language": "python",
   "name": "python3"
  },
  "language_info": {
   "codemirror_mode": {
    "name": "ipython",
    "version": 3
   },
   "file_extension": ".py",
   "mimetype": "text/x-python",
   "name": "python",
   "nbconvert_exporter": "python",
   "pygments_lexer": "ipython3",
   "version": "3.12.1"
  }
 },
 "nbformat": 4,
 "nbformat_minor": 5
}
